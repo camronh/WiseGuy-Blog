{
 "cells": [
  {
   "cell_type": "markdown",
   "metadata": {},
   "source": [
    "# Prompt Caching\n",
    "\n",
    "Gonna load all of the app data in and ask it questions with follow ups\n",
    "\n",
    "https://ai.google.dev/gemini-api/docs/caching?lang=python\n",
    "\n"
   ]
  },
  {
   "cell_type": "code",
   "execution_count": 1,
   "metadata": {},
   "outputs": [],
   "source": [
    "%load_ext autoreload\n",
    "%autoreload 2"
   ]
  },
  {
   "cell_type": "code",
   "execution_count": 2,
   "metadata": {},
   "outputs": [
    {
     "name": "stdout",
     "output_type": "stream",
     "text": [
      "\u001b[33mWARNING: You are using pip version 21.2.4; however, version 24.2 is available.\n",
      "You should consider upgrading via the '/Library/Developer/CommandLineTools/usr/bin/python3 -m pip install --upgrade pip' command.\u001b[0m\n",
      "Note: you may need to restart the kernel to use updated packages.\n"
     ]
    }
   ],
   "source": [
    "%pip install -qU google-generativeai python-dotenv pandas"
   ]
  },
  {
   "cell_type": "markdown",
   "metadata": {},
   "source": [
    "### Setup"
   ]
  },
  {
   "cell_type": "markdown",
   "metadata": {},
   "source": [
    "#### Load Env"
   ]
  },
  {
   "cell_type": "code",
   "execution_count": 3,
   "metadata": {},
   "outputs": [],
   "source": [
    "import os\n",
    "import google.generativeai as genai\n",
    "from google.generativeai import caching\n",
    "import datetime\n",
    "import time\n",
    "from dotenv import load_dotenv\n",
    "from utils import get_app_store_data, get_context\n",
    "\n",
    "load_dotenv()\n",
    "\n",
    "genai.configure(api_key=os.environ['GOOGLE_API_KEY'])\n",
    "\n"
   ]
  },
  {
   "cell_type": "markdown",
   "metadata": {},
   "source": [
    "#### Get all of the app store data"
   ]
  },
  {
   "cell_type": "code",
   "execution_count": 4,
   "metadata": {},
   "outputs": [],
   "source": [
    "# Get app store data\n",
    "df = get_app_store_data()\n",
    "\n",
    "# Get 150,000 tokens of context\n",
    "app_data_str, app_df = get_context(150000, df)\n"
   ]
  },
  {
   "cell_type": "markdown",
   "metadata": {},
   "source": [
    "#### System Prompt and Examples"
   ]
  },
  {
   "cell_type": "code",
   "execution_count": 14,
   "metadata": {},
   "outputs": [],
   "source": [
    "system_prompt = \"\"\"You are an App Store Data Analyzer. You should analyze the provided app store data and answer the user's questions.\n",
    "\n",
    "- Only use the App Store Data provided in your context.\n",
    "- Do not answer questions you are not confident in answering because the answer can't be found in the provided context.\n",
    "- Think through your answer slowly, step by step before providing the final answer.\"\"\"\n"
   ]
  },
  {
   "cell_type": "code",
   "execution_count": null,
   "metadata": {},
   "outputs": [],
   "source": [
    "print(app_data_str)"
   ]
  },
  {
   "cell_type": "markdown",
   "metadata": {},
   "source": [
    "## Gemini"
   ]
  },
  {
   "cell_type": "markdown",
   "metadata": {},
   "source": [
    "Gemini says \n",
    "> The model doesn't make any distinction between cached tokens and regular input tokens. Cached content is simply a prefix to the prompt.\n",
    "\n",
    "That means we are pretty much only able to cache the system prompt. So you wouldnt be able to cache search results or function call responses. We cant cache tools. It does make sense though, in an agent the only thing that is static is the system prompt."
   ]
  },
  {
   "cell_type": "code",
   "execution_count": 18,
   "metadata": {},
   "outputs": [],
   "source": [
    "examples = [\n",
    "    \"What app has the most ratings?\",\n",
    "    \"What are the features for the app 'Online Head Ball'?\",\n",
    "    \"What is the most expensive app in the 'Games' category?\",\n",
    "    # \"Which app has the longest description in the app store?\",\n",
    "    # \"What is the average rating of all free apps?\",\n",
    "    # \"Identify any app that is paid and has fewer than 100 ratings.\",\n",
    "    # \"List all apps that are categorized under 'Games' and have more than 400,000 ratings.\",\n",
    "    # \"Which app has the lowest price in the app store?\",\n",
    "    # \"Find all apps that have a title starting with the letter 'A'.\",\n",
    "    # \"What is the total number of ratings for all apps in the 'Health & Fitness' category?\"\n",
    "]"
   ]
  },
  {
   "cell_type": "code",
   "execution_count": 16,
   "metadata": {},
   "outputs": [],
   "source": [
    "# Create a cache with a 5 minute TTL\n",
    "cache = caching.CachedContent.create(\n",
    "    model='models/gemini-1.5-flash-001',\n",
    "    display_name='App Store Data',  # used to identify the cache\n",
    "    system_instruction=system_prompt,\n",
    "    contents=[app_data_str],\n",
    "    ttl=datetime.timedelta(minutes=1),\n",
    ")"
   ]
  },
  {
   "cell_type": "code",
   "execution_count": 19,
   "metadata": {},
   "outputs": [
    {
     "name": "stdout",
     "output_type": "stream",
     "text": [
      "prompt_token_count: 157119\n",
      "cached_content_token_count: 157111\n",
      "candidates_token_count: 21\n",
      "total_token_count: 157140\n",
      "\n",
      "Question: What app has the most ratings?\n",
      "Answer: The app with the most ratings is **Township**, with 80,801 ratings. \n",
      "\n",
      "\n",
      "======\n",
      "\n",
      "prompt_token_count: 157124\n",
      "cached_content_token_count: 157111\n",
      "candidates_token_count: 138\n",
      "total_token_count: 157262\n",
      "\n",
      "Question: What are the features for the app 'Online Head Ball'?\n",
      "Answer: Here are the features for the app 'Online Head Ball':\n",
      "\n",
      "- Play with more than 20 million players \n",
      "- Almost 200 different characters and even more accessories\n",
      "- Super Powers that bring more excitement to matches\n",
      "- Cross-platform gameplay support\n",
      "- Realistic stadiums and sound effects\n",
      "- Playing 1 on 1 matches against friends\n",
      "- Ability to play without internet in Offline Mode\n",
      "- Weekly seasons with in-game rewards\n",
      "- Continuous rivalry with all-time leaderboards\n",
      "- Community events and promotional in-game rewards\n",
      "- New characters being added with updates\n",
      "- Fast and fluent gameplay\n",
      "- Many game modes\n",
      "- Great performance even on old devices \n",
      "\n",
      "\n",
      "======\n",
      "\n",
      "prompt_token_count: 157125\n",
      "cached_content_token_count: 157111\n",
      "candidates_token_count: 24\n",
      "total_token_count: 157149\n",
      "\n",
      "Question: What is the most expensive app in the 'Games' category?\n",
      "Answer: The most expensive app in the 'Games' category is **Galileo Organ** at **9.99 USD**. \n",
      "\n",
      "\n",
      "======\n",
      "\n"
     ]
    }
   ],
   "source": [
    "model = genai.GenerativeModel.from_cached_content(cached_content=cache)\n",
    "\n",
    "for example in examples:\n",
    "    # Call the model\n",
    "    response = model.generate_content([(example)])\n",
    "\n",
    "    print(response.usage_metadata)\n",
    "    print(f\"Question: {example}\")\n",
    "    print(f\"Answer: {response.text}\")\n",
    "    print(\"\\n======\\n\")"
   ]
  },
  {
   "cell_type": "code",
   "execution_count": null,
   "metadata": {},
   "outputs": [],
   "source": []
  }
 ],
 "metadata": {
  "kernelspec": {
   "display_name": "Python 3",
   "language": "python",
   "name": "python3"
  },
  "language_info": {
   "codemirror_mode": {
    "name": "ipython",
    "version": 3
   },
   "file_extension": ".py",
   "mimetype": "text/x-python",
   "name": "python",
   "nbconvert_exporter": "python",
   "pygments_lexer": "ipython3",
   "version": "3.9.6"
  }
 },
 "nbformat": 4,
 "nbformat_minor": 2
}
